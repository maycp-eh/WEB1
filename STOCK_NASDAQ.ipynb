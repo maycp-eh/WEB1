{
  "nbformat": 4,
  "nbformat_minor": 0,
  "metadata": {
    "colab": {
      "name": "STOCK_NASDAQ.ipynb",
      "provenance": [],
      "authorship_tag": "ABX9TyO0Ry0rYzu4BnU1RHYLqrhJ"
    },
    "kernelspec": {
      "name": "python3",
      "display_name": "Python 3"
    }
  },
  "cells": [
    {
      "cell_type": "code",
      "metadata": {
        "id": "dBAHGMTP-sAg",
        "colab_type": "code",
        "colab": {
          "base_uri": "https://localhost:8080/",
          "height": 35
        },
        "outputId": "b268b33f-866f-4604-f46e-562c65b238e0"
      },
      "source": [
        "!pip install ipython-autotime\n",
        "%load_ext autotime"
      ],
      "execution_count": 1,
      "outputs": [
        {
          "output_type": "stream",
          "text": [
            "Requirement already satisfied: ipython-autotime in /usr/local/lib/python3.6/dist-packages (0.1)\n"
          ],
          "name": "stdout"
        }
      ]
    },
    {
      "cell_type": "code",
      "metadata": {
        "id": "ixFLPESx-2LS",
        "colab_type": "code",
        "colab": {
          "base_uri": "https://localhost:8080/",
          "height": 53
        },
        "outputId": "8547bc4d-adc9-449a-9034-3cd4900cb549"
      },
      "source": [
        "from google.colab import drive\n",
        "drive.mount('/gdrive')"
      ],
      "execution_count": 2,
      "outputs": [
        {
          "output_type": "stream",
          "text": [
            "Drive already mounted at /gdrive; to attempt to forcibly remount, call drive.mount(\"/gdrive\", force_remount=True).\n",
            "time: 1.52 ms\n"
          ],
          "name": "stdout"
        }
      ]
    },
    {
      "cell_type": "code",
      "metadata": {
        "id": "5fT0KjBH_HOr",
        "colab_type": "code",
        "colab": {
          "base_uri": "https://localhost:8080/",
          "height": 53
        },
        "outputId": "345b2cb0-75d2-49f8-ecc4-ffafdfed006d"
      },
      "source": [
        "%cd /gdrive/My Drive/KISTI_STOCK/DATA"
      ],
      "execution_count": 3,
      "outputs": [
        {
          "output_type": "stream",
          "text": [
            "/gdrive/My Drive/KISTI_STOCK/DATA\n",
            "time: 4.92 ms\n"
          ],
          "name": "stdout"
        }
      ]
    },
    {
      "cell_type": "code",
      "metadata": {
        "id": "4py1PItt_XEw",
        "colab_type": "code",
        "colab": {
          "base_uri": "https://localhost:8080/",
          "height": 71
        },
        "outputId": "303ca404-1145-42fb-b944-a86eafcd734a"
      },
      "source": [
        "import pandas as pd\n",
        "import numpy as np\n",
        "from datetime import datetime\n",
        "import re\n",
        "import matplotlib.pyplot as plt\n",
        "import seaborn as sns"
      ],
      "execution_count": 4,
      "outputs": [
        {
          "output_type": "stream",
          "text": [
            "time: 346 ms\n"
          ],
          "name": "stdout"
        },
        {
          "output_type": "stream",
          "text": [
            "/usr/local/lib/python3.6/dist-packages/statsmodels/tools/_testing.py:19: FutureWarning: pandas.util.testing is deprecated. Use the functions in the public API at pandas.testing instead.\n",
            "  import pandas.util.testing as tm\n"
          ],
          "name": "stderr"
        }
      ]
    },
    {
      "cell_type": "code",
      "metadata": {
        "id": "4ZqTkj_Q_chg",
        "colab_type": "code",
        "colab": {
          "base_uri": "https://localhost:8080/",
          "height": 35
        },
        "outputId": "75447046-64d3-4c92-b1d5-9a2d07ed443f"
      },
      "source": [
        "def data_info(df) :\n",
        "    print(f'shape : {df.shape}')\n",
        "    print(f'dtypes : {df.dtypes}')\n",
        "    display(df.head())"
      ],
      "execution_count": 5,
      "outputs": [
        {
          "output_type": "stream",
          "text": [
            "time: 2.28 ms\n"
          ],
          "name": "stdout"
        }
      ]
    },
    {
      "cell_type": "code",
      "metadata": {
        "id": "T3R1uPTX_iR9",
        "colab_type": "code",
        "colab": {
          "base_uri": "https://localhost:8080/",
          "height": 733
        },
        "outputId": "eba02cc6-d4b9-4d5f-e49b-babb021f1ce0"
      },
      "source": [
        "stock = pd.read_csv(\"SSE_2018-01-01_2020-06-30.csv\")\n",
        "nasdaq = pd.read_csv(\"NASDAQ.csv\")\n",
        "\n",
        "data_info(stock)\n",
        "data_info(nasdaq)"
      ],
      "execution_count": 6,
      "outputs": [
        {
          "output_type": "stream",
          "text": [
            "shape : (613, 7)\n",
            "dtypes : Date       object\n",
            "Open        int64\n",
            "High        int64\n",
            "Low         int64\n",
            "Close       int64\n",
            "Volume      int64\n",
            "Change    float64\n",
            "dtype: object\n"
          ],
          "name": "stdout"
        },
        {
          "output_type": "display_data",
          "data": {
            "text/html": [
              "<div>\n",
              "<style scoped>\n",
              "    .dataframe tbody tr th:only-of-type {\n",
              "        vertical-align: middle;\n",
              "    }\n",
              "\n",
              "    .dataframe tbody tr th {\n",
              "        vertical-align: top;\n",
              "    }\n",
              "\n",
              "    .dataframe thead th {\n",
              "        text-align: right;\n",
              "    }\n",
              "</style>\n",
              "<table border=\"1\" class=\"dataframe\">\n",
              "  <thead>\n",
              "    <tr style=\"text-align: right;\">\n",
              "      <th></th>\n",
              "      <th>Date</th>\n",
              "      <th>Open</th>\n",
              "      <th>High</th>\n",
              "      <th>Low</th>\n",
              "      <th>Close</th>\n",
              "      <th>Volume</th>\n",
              "      <th>Change</th>\n",
              "    </tr>\n",
              "  </thead>\n",
              "  <tbody>\n",
              "    <tr>\n",
              "      <th>0</th>\n",
              "      <td>2018-01-02</td>\n",
              "      <td>51380</td>\n",
              "      <td>51400</td>\n",
              "      <td>50780</td>\n",
              "      <td>51020</td>\n",
              "      <td>169485</td>\n",
              "      <td>0.001177</td>\n",
              "    </tr>\n",
              "    <tr>\n",
              "      <th>1</th>\n",
              "      <td>2018-01-03</td>\n",
              "      <td>52540</td>\n",
              "      <td>52560</td>\n",
              "      <td>51420</td>\n",
              "      <td>51620</td>\n",
              "      <td>200270</td>\n",
              "      <td>0.011760</td>\n",
              "    </tr>\n",
              "    <tr>\n",
              "      <th>2</th>\n",
              "      <td>2018-01-04</td>\n",
              "      <td>52120</td>\n",
              "      <td>52180</td>\n",
              "      <td>50640</td>\n",
              "      <td>51080</td>\n",
              "      <td>233909</td>\n",
              "      <td>-0.010461</td>\n",
              "    </tr>\n",
              "    <tr>\n",
              "      <th>3</th>\n",
              "      <td>2018-01-05</td>\n",
              "      <td>51300</td>\n",
              "      <td>52120</td>\n",
              "      <td>51200</td>\n",
              "      <td>52120</td>\n",
              "      <td>189623</td>\n",
              "      <td>0.020360</td>\n",
              "    </tr>\n",
              "    <tr>\n",
              "      <th>4</th>\n",
              "      <td>2018-01-08</td>\n",
              "      <td>52400</td>\n",
              "      <td>52520</td>\n",
              "      <td>51500</td>\n",
              "      <td>52020</td>\n",
              "      <td>167673</td>\n",
              "      <td>-0.001919</td>\n",
              "    </tr>\n",
              "  </tbody>\n",
              "</table>\n",
              "</div>"
            ],
            "text/plain": [
              "         Date   Open   High    Low  Close  Volume    Change\n",
              "0  2018-01-02  51380  51400  50780  51020  169485  0.001177\n",
              "1  2018-01-03  52540  52560  51420  51620  200270  0.011760\n",
              "2  2018-01-04  52120  52180  50640  51080  233909 -0.010461\n",
              "3  2018-01-05  51300  52120  51200  52120  189623  0.020360\n",
              "4  2018-01-08  52400  52520  51500  52020  167673 -0.001919"
            ]
          },
          "metadata": {
            "tags": []
          }
        },
        {
          "output_type": "stream",
          "text": [
            "shape : (628, 7)\n",
            "dtypes : 날짜      object\n",
            "종가      object\n",
            "오픈      object\n",
            "고가      object\n",
            "저가      object\n",
            "거래량     object\n",
            "변동 %    object\n",
            "dtype: object\n"
          ],
          "name": "stdout"
        },
        {
          "output_type": "display_data",
          "data": {
            "text/html": [
              "<div>\n",
              "<style scoped>\n",
              "    .dataframe tbody tr th:only-of-type {\n",
              "        vertical-align: middle;\n",
              "    }\n",
              "\n",
              "    .dataframe tbody tr th {\n",
              "        vertical-align: top;\n",
              "    }\n",
              "\n",
              "    .dataframe thead th {\n",
              "        text-align: right;\n",
              "    }\n",
              "</style>\n",
              "<table border=\"1\" class=\"dataframe\">\n",
              "  <thead>\n",
              "    <tr style=\"text-align: right;\">\n",
              "      <th></th>\n",
              "      <th>날짜</th>\n",
              "      <th>종가</th>\n",
              "      <th>오픈</th>\n",
              "      <th>고가</th>\n",
              "      <th>저가</th>\n",
              "      <th>거래량</th>\n",
              "      <th>변동 %</th>\n",
              "    </tr>\n",
              "  </thead>\n",
              "  <tbody>\n",
              "    <tr>\n",
              "      <th>0</th>\n",
              "      <td>2020년 06월 30일</td>\n",
              "      <td>10,058.76</td>\n",
              "      <td>9,875.29</td>\n",
              "      <td>10,085.59</td>\n",
              "      <td>9,863.67</td>\n",
              "      <td>1.10B</td>\n",
              "      <td>1.87%</td>\n",
              "    </tr>\n",
              "    <tr>\n",
              "      <th>1</th>\n",
              "      <td>2020년 06월 29일</td>\n",
              "      <td>9,874.15</td>\n",
              "      <td>9,771.72</td>\n",
              "      <td>9,877.34</td>\n",
              "      <td>9,663.61</td>\n",
              "      <td>977.01M</td>\n",
              "      <td>1.20%</td>\n",
              "    </tr>\n",
              "    <tr>\n",
              "      <th>2</th>\n",
              "      <td>2020년 06월 26일</td>\n",
              "      <td>9,757.22</td>\n",
              "      <td>9,995.12</td>\n",
              "      <td>10,000.67</td>\n",
              "      <td>9,749.07</td>\n",
              "      <td>2.67B</td>\n",
              "      <td>-2.59%</td>\n",
              "    </tr>\n",
              "    <tr>\n",
              "      <th>3</th>\n",
              "      <td>2020년 06월 25일</td>\n",
              "      <td>10,017.00</td>\n",
              "      <td>9,899.36</td>\n",
              "      <td>10,023.28</td>\n",
              "      <td>9,810.47</td>\n",
              "      <td>1.06B</td>\n",
              "      <td>1.09%</td>\n",
              "    </tr>\n",
              "    <tr>\n",
              "      <th>4</th>\n",
              "      <td>2020년 06월 24일</td>\n",
              "      <td>9,909.17</td>\n",
              "      <td>10,092.92</td>\n",
              "      <td>10,137.50</td>\n",
              "      <td>9,842.22</td>\n",
              "      <td>1.26B</td>\n",
              "      <td>-2.19%</td>\n",
              "    </tr>\n",
              "  </tbody>\n",
              "</table>\n",
              "</div>"
            ],
            "text/plain": [
              "              날짜         종가         오픈         고가        저가      거래량    변동 %\n",
              "0  2020년 06월 30일  10,058.76   9,875.29  10,085.59  9,863.67    1.10B   1.87%\n",
              "1  2020년 06월 29일   9,874.15   9,771.72   9,877.34  9,663.61  977.01M   1.20%\n",
              "2  2020년 06월 26일   9,757.22   9,995.12  10,000.67  9,749.07    2.67B  -2.59%\n",
              "3  2020년 06월 25일  10,017.00   9,899.36  10,023.28  9,810.47    1.06B   1.09%\n",
              "4  2020년 06월 24일   9,909.17  10,092.92  10,137.50  9,842.22    1.26B  -2.19%"
            ]
          },
          "metadata": {
            "tags": []
          }
        },
        {
          "output_type": "stream",
          "text": [
            "time: 68.5 ms\n"
          ],
          "name": "stdout"
        }
      ]
    },
    {
      "cell_type": "code",
      "metadata": {
        "id": "OtR3RUO-_vtO",
        "colab_type": "code",
        "colab": {
          "base_uri": "https://localhost:8080/",
          "height": 35
        },
        "outputId": "4fc73de9-dec9-4cce-fa2f-5e1cca55abf3"
      },
      "source": [
        "nasdaq.columns = ['Date', 'Close', 'Open', 'High', 'Low', 'Volume', 'Change']"
      ],
      "execution_count": 7,
      "outputs": [
        {
          "output_type": "stream",
          "text": [
            "time: 1.86 ms\n"
          ],
          "name": "stdout"
        }
      ]
    },
    {
      "cell_type": "code",
      "metadata": {
        "id": "fYH730wI_0-P",
        "colab_type": "code",
        "colab": {
          "base_uri": "https://localhost:8080/",
          "height": 35
        },
        "outputId": "7201fbcc-aa4f-44c9-d040-ebf1ac572e5a"
      },
      "source": [
        "def process_Date(df):\n",
        "    \n",
        "    regex_pat = re.compile(r'[가-힣] ')\n",
        "    df['Date'] = df.Date.replace(regex_pat, '-')\n",
        "    regex_pat = re.compile(r'[가-힣]')\n",
        "    df['Date'] = df.Date.replace(regex_pat, '')\n",
        "    \n",
        "    df['Date'] = pd.to_datetime(df['Date'], format='%Y-%m-%d')\n",
        "    return df"
      ],
      "execution_count": 8,
      "outputs": [
        {
          "output_type": "stream",
          "text": [
            "time: 5.89 ms\n"
          ],
          "name": "stdout"
        }
      ]
    },
    {
      "cell_type": "code",
      "metadata": {
        "id": "wXY4MrdE_7FI",
        "colab_type": "code",
        "colab": {
          "base_uri": "https://localhost:8080/",
          "height": 733
        },
        "outputId": "8f0d371a-c70a-42a4-cc60-921a03e0ef17"
      },
      "source": [
        "stock = process_Date(stock)\n",
        "nasdaq = process_Date(nasdaq)\n",
        "\n",
        "data_info(stock)\n",
        "data_info(nasdaq)"
      ],
      "execution_count": 9,
      "outputs": [
        {
          "output_type": "stream",
          "text": [
            "shape : (613, 7)\n",
            "dtypes : Date      datetime64[ns]\n",
            "Open               int64\n",
            "High               int64\n",
            "Low                int64\n",
            "Close              int64\n",
            "Volume             int64\n",
            "Change           float64\n",
            "dtype: object\n"
          ],
          "name": "stdout"
        },
        {
          "output_type": "display_data",
          "data": {
            "text/html": [
              "<div>\n",
              "<style scoped>\n",
              "    .dataframe tbody tr th:only-of-type {\n",
              "        vertical-align: middle;\n",
              "    }\n",
              "\n",
              "    .dataframe tbody tr th {\n",
              "        vertical-align: top;\n",
              "    }\n",
              "\n",
              "    .dataframe thead th {\n",
              "        text-align: right;\n",
              "    }\n",
              "</style>\n",
              "<table border=\"1\" class=\"dataframe\">\n",
              "  <thead>\n",
              "    <tr style=\"text-align: right;\">\n",
              "      <th></th>\n",
              "      <th>Date</th>\n",
              "      <th>Open</th>\n",
              "      <th>High</th>\n",
              "      <th>Low</th>\n",
              "      <th>Close</th>\n",
              "      <th>Volume</th>\n",
              "      <th>Change</th>\n",
              "    </tr>\n",
              "  </thead>\n",
              "  <tbody>\n",
              "    <tr>\n",
              "      <th>0</th>\n",
              "      <td>2018-01-02</td>\n",
              "      <td>51380</td>\n",
              "      <td>51400</td>\n",
              "      <td>50780</td>\n",
              "      <td>51020</td>\n",
              "      <td>169485</td>\n",
              "      <td>0.001177</td>\n",
              "    </tr>\n",
              "    <tr>\n",
              "      <th>1</th>\n",
              "      <td>2018-01-03</td>\n",
              "      <td>52540</td>\n",
              "      <td>52560</td>\n",
              "      <td>51420</td>\n",
              "      <td>51620</td>\n",
              "      <td>200270</td>\n",
              "      <td>0.011760</td>\n",
              "    </tr>\n",
              "    <tr>\n",
              "      <th>2</th>\n",
              "      <td>2018-01-04</td>\n",
              "      <td>52120</td>\n",
              "      <td>52180</td>\n",
              "      <td>50640</td>\n",
              "      <td>51080</td>\n",
              "      <td>233909</td>\n",
              "      <td>-0.010461</td>\n",
              "    </tr>\n",
              "    <tr>\n",
              "      <th>3</th>\n",
              "      <td>2018-01-05</td>\n",
              "      <td>51300</td>\n",
              "      <td>52120</td>\n",
              "      <td>51200</td>\n",
              "      <td>52120</td>\n",
              "      <td>189623</td>\n",
              "      <td>0.020360</td>\n",
              "    </tr>\n",
              "    <tr>\n",
              "      <th>4</th>\n",
              "      <td>2018-01-08</td>\n",
              "      <td>52400</td>\n",
              "      <td>52520</td>\n",
              "      <td>51500</td>\n",
              "      <td>52020</td>\n",
              "      <td>167673</td>\n",
              "      <td>-0.001919</td>\n",
              "    </tr>\n",
              "  </tbody>\n",
              "</table>\n",
              "</div>"
            ],
            "text/plain": [
              "        Date   Open   High    Low  Close  Volume    Change\n",
              "0 2018-01-02  51380  51400  50780  51020  169485  0.001177\n",
              "1 2018-01-03  52540  52560  51420  51620  200270  0.011760\n",
              "2 2018-01-04  52120  52180  50640  51080  233909 -0.010461\n",
              "3 2018-01-05  51300  52120  51200  52120  189623  0.020360\n",
              "4 2018-01-08  52400  52520  51500  52020  167673 -0.001919"
            ]
          },
          "metadata": {
            "tags": []
          }
        },
        {
          "output_type": "stream",
          "text": [
            "shape : (628, 7)\n",
            "dtypes : Date      datetime64[ns]\n",
            "Close             object\n",
            "Open              object\n",
            "High              object\n",
            "Low               object\n",
            "Volume            object\n",
            "Change            object\n",
            "dtype: object\n"
          ],
          "name": "stdout"
        },
        {
          "output_type": "display_data",
          "data": {
            "text/html": [
              "<div>\n",
              "<style scoped>\n",
              "    .dataframe tbody tr th:only-of-type {\n",
              "        vertical-align: middle;\n",
              "    }\n",
              "\n",
              "    .dataframe tbody tr th {\n",
              "        vertical-align: top;\n",
              "    }\n",
              "\n",
              "    .dataframe thead th {\n",
              "        text-align: right;\n",
              "    }\n",
              "</style>\n",
              "<table border=\"1\" class=\"dataframe\">\n",
              "  <thead>\n",
              "    <tr style=\"text-align: right;\">\n",
              "      <th></th>\n",
              "      <th>Date</th>\n",
              "      <th>Close</th>\n",
              "      <th>Open</th>\n",
              "      <th>High</th>\n",
              "      <th>Low</th>\n",
              "      <th>Volume</th>\n",
              "      <th>Change</th>\n",
              "    </tr>\n",
              "  </thead>\n",
              "  <tbody>\n",
              "    <tr>\n",
              "      <th>0</th>\n",
              "      <td>2020-06-30</td>\n",
              "      <td>10,058.76</td>\n",
              "      <td>9,875.29</td>\n",
              "      <td>10,085.59</td>\n",
              "      <td>9,863.67</td>\n",
              "      <td>1.10B</td>\n",
              "      <td>1.87%</td>\n",
              "    </tr>\n",
              "    <tr>\n",
              "      <th>1</th>\n",
              "      <td>2020-06-29</td>\n",
              "      <td>9,874.15</td>\n",
              "      <td>9,771.72</td>\n",
              "      <td>9,877.34</td>\n",
              "      <td>9,663.61</td>\n",
              "      <td>977.01M</td>\n",
              "      <td>1.20%</td>\n",
              "    </tr>\n",
              "    <tr>\n",
              "      <th>2</th>\n",
              "      <td>2020-06-26</td>\n",
              "      <td>9,757.22</td>\n",
              "      <td>9,995.12</td>\n",
              "      <td>10,000.67</td>\n",
              "      <td>9,749.07</td>\n",
              "      <td>2.67B</td>\n",
              "      <td>-2.59%</td>\n",
              "    </tr>\n",
              "    <tr>\n",
              "      <th>3</th>\n",
              "      <td>2020-06-25</td>\n",
              "      <td>10,017.00</td>\n",
              "      <td>9,899.36</td>\n",
              "      <td>10,023.28</td>\n",
              "      <td>9,810.47</td>\n",
              "      <td>1.06B</td>\n",
              "      <td>1.09%</td>\n",
              "    </tr>\n",
              "    <tr>\n",
              "      <th>4</th>\n",
              "      <td>2020-06-24</td>\n",
              "      <td>9,909.17</td>\n",
              "      <td>10,092.92</td>\n",
              "      <td>10,137.50</td>\n",
              "      <td>9,842.22</td>\n",
              "      <td>1.26B</td>\n",
              "      <td>-2.19%</td>\n",
              "    </tr>\n",
              "  </tbody>\n",
              "</table>\n",
              "</div>"
            ],
            "text/plain": [
              "        Date      Close       Open       High       Low   Volume  Change\n",
              "0 2020-06-30  10,058.76   9,875.29  10,085.59  9,863.67    1.10B   1.87%\n",
              "1 2020-06-29   9,874.15   9,771.72   9,877.34  9,663.61  977.01M   1.20%\n",
              "2 2020-06-26   9,757.22   9,995.12  10,000.67  9,749.07    2.67B  -2.59%\n",
              "3 2020-06-25  10,017.00   9,899.36  10,023.28  9,810.47    1.06B   1.09%\n",
              "4 2020-06-24   9,909.17  10,092.92  10,137.50  9,842.22    1.26B  -2.19%"
            ]
          },
          "metadata": {
            "tags": []
          }
        },
        {
          "output_type": "stream",
          "text": [
            "time: 61.3 ms\n"
          ],
          "name": "stdout"
        }
      ]
    },
    {
      "cell_type": "code",
      "metadata": {
        "id": "VCKIkka3AHCH",
        "colab_type": "code",
        "colab": {
          "base_uri": "https://localhost:8080/",
          "height": 222
        },
        "outputId": "bc5b51ee-bedd-4af1-b1ac-744f9f17ba07"
      },
      "source": [
        "nasdaq.sort_values(by='Date', inplace=True)\n",
        "nasdaq.head()"
      ],
      "execution_count": 10,
      "outputs": [
        {
          "output_type": "execute_result",
          "data": {
            "text/html": [
              "<div>\n",
              "<style scoped>\n",
              "    .dataframe tbody tr th:only-of-type {\n",
              "        vertical-align: middle;\n",
              "    }\n",
              "\n",
              "    .dataframe tbody tr th {\n",
              "        vertical-align: top;\n",
              "    }\n",
              "\n",
              "    .dataframe thead th {\n",
              "        text-align: right;\n",
              "    }\n",
              "</style>\n",
              "<table border=\"1\" class=\"dataframe\">\n",
              "  <thead>\n",
              "    <tr style=\"text-align: right;\">\n",
              "      <th></th>\n",
              "      <th>Date</th>\n",
              "      <th>Close</th>\n",
              "      <th>Open</th>\n",
              "      <th>High</th>\n",
              "      <th>Low</th>\n",
              "      <th>Volume</th>\n",
              "      <th>Change</th>\n",
              "    </tr>\n",
              "  </thead>\n",
              "  <tbody>\n",
              "    <tr>\n",
              "      <th>627</th>\n",
              "      <td>2018-01-02</td>\n",
              "      <td>7,006.90</td>\n",
              "      <td>6,937.65</td>\n",
              "      <td>7,006.91</td>\n",
              "      <td>6,924.08</td>\n",
              "      <td>462.20M</td>\n",
              "      <td>1.50%</td>\n",
              "    </tr>\n",
              "    <tr>\n",
              "      <th>626</th>\n",
              "      <td>2018-01-03</td>\n",
              "      <td>7,065.53</td>\n",
              "      <td>7,017.07</td>\n",
              "      <td>7,069.15</td>\n",
              "      <td>7,016.70</td>\n",
              "      <td>483.92M</td>\n",
              "      <td>0.84%</td>\n",
              "    </tr>\n",
              "    <tr>\n",
              "      <th>625</th>\n",
              "      <td>2018-01-04</td>\n",
              "      <td>7,077.91</td>\n",
              "      <td>7,089.50</td>\n",
              "      <td>7,098.05</td>\n",
              "      <td>7,072.38</td>\n",
              "      <td>493.88M</td>\n",
              "      <td>0.18%</td>\n",
              "    </tr>\n",
              "    <tr>\n",
              "      <th>624</th>\n",
              "      <td>2018-01-05</td>\n",
              "      <td>7,136.56</td>\n",
              "      <td>7,105.74</td>\n",
              "      <td>7,137.04</td>\n",
              "      <td>7,097.08</td>\n",
              "      <td>476.41M</td>\n",
              "      <td>0.83%</td>\n",
              "    </tr>\n",
              "    <tr>\n",
              "      <th>623</th>\n",
              "      <td>2018-01-08</td>\n",
              "      <td>7,157.39</td>\n",
              "      <td>7,135.38</td>\n",
              "      <td>7,161.35</td>\n",
              "      <td>7,124.09</td>\n",
              "      <td>497.21M</td>\n",
              "      <td>0.29%</td>\n",
              "    </tr>\n",
              "  </tbody>\n",
              "</table>\n",
              "</div>"
            ],
            "text/plain": [
              "          Date     Close      Open      High       Low   Volume Change\n",
              "627 2018-01-02  7,006.90  6,937.65  7,006.91  6,924.08  462.20M  1.50%\n",
              "626 2018-01-03  7,065.53  7,017.07  7,069.15  7,016.70  483.92M  0.84%\n",
              "625 2018-01-04  7,077.91  7,089.50  7,098.05  7,072.38  493.88M  0.18%\n",
              "624 2018-01-05  7,136.56  7,105.74  7,137.04  7,097.08  476.41M  0.83%\n",
              "623 2018-01-08  7,157.39  7,135.38  7,161.35  7,124.09  497.21M  0.29%"
            ]
          },
          "metadata": {
            "tags": []
          },
          "execution_count": 10
        },
        {
          "output_type": "stream",
          "text": [
            "time: 25.8 ms\n"
          ],
          "name": "stdout"
        }
      ]
    },
    {
      "cell_type": "code",
      "metadata": {
        "id": "y3fJZlSpAN7H",
        "colab_type": "code",
        "colab": {
          "base_uri": "https://localhost:8080/",
          "height": 35
        },
        "outputId": "1b072c37-6a0f-45ac-8819-ccfe93ea480a"
      },
      "source": [
        "def process_Volume(volume):\n",
        "    if volume == '-':\n",
        "        return 0\n",
        "    \n",
        "    scale = volume[-1]\n",
        "    val = float(volume[:-1])\n",
        "    \n",
        "    if scale == 'K':\n",
        "        val = val*1000\n",
        "    elif scale == 'M':\n",
        "        val = val*1e6\n",
        "    elif scale == 'B':\n",
        "        val = val*1e9\n",
        "        \n",
        "    return val"
      ],
      "execution_count": 11,
      "outputs": [
        {
          "output_type": "stream",
          "text": [
            "time: 7.19 ms\n"
          ],
          "name": "stdout"
        }
      ]
    },
    {
      "cell_type": "code",
      "metadata": {
        "id": "oGlOxT3OBA7Q",
        "colab_type": "code",
        "colab": {
          "base_uri": "https://localhost:8080/",
          "height": 222
        },
        "outputId": "c4e61e65-8bf1-4aba-a275-95b7aaa11da0"
      },
      "source": [
        "nasdaq['Volume'] = nasdaq['Volume'].apply(process_Volume)\n",
        "nasdaq.head()"
      ],
      "execution_count": 12,
      "outputs": [
        {
          "output_type": "execute_result",
          "data": {
            "text/html": [
              "<div>\n",
              "<style scoped>\n",
              "    .dataframe tbody tr th:only-of-type {\n",
              "        vertical-align: middle;\n",
              "    }\n",
              "\n",
              "    .dataframe tbody tr th {\n",
              "        vertical-align: top;\n",
              "    }\n",
              "\n",
              "    .dataframe thead th {\n",
              "        text-align: right;\n",
              "    }\n",
              "</style>\n",
              "<table border=\"1\" class=\"dataframe\">\n",
              "  <thead>\n",
              "    <tr style=\"text-align: right;\">\n",
              "      <th></th>\n",
              "      <th>Date</th>\n",
              "      <th>Close</th>\n",
              "      <th>Open</th>\n",
              "      <th>High</th>\n",
              "      <th>Low</th>\n",
              "      <th>Volume</th>\n",
              "      <th>Change</th>\n",
              "    </tr>\n",
              "  </thead>\n",
              "  <tbody>\n",
              "    <tr>\n",
              "      <th>627</th>\n",
              "      <td>2018-01-02</td>\n",
              "      <td>7,006.90</td>\n",
              "      <td>6,937.65</td>\n",
              "      <td>7,006.91</td>\n",
              "      <td>6,924.08</td>\n",
              "      <td>462200000.0</td>\n",
              "      <td>1.50%</td>\n",
              "    </tr>\n",
              "    <tr>\n",
              "      <th>626</th>\n",
              "      <td>2018-01-03</td>\n",
              "      <td>7,065.53</td>\n",
              "      <td>7,017.07</td>\n",
              "      <td>7,069.15</td>\n",
              "      <td>7,016.70</td>\n",
              "      <td>483920000.0</td>\n",
              "      <td>0.84%</td>\n",
              "    </tr>\n",
              "    <tr>\n",
              "      <th>625</th>\n",
              "      <td>2018-01-04</td>\n",
              "      <td>7,077.91</td>\n",
              "      <td>7,089.50</td>\n",
              "      <td>7,098.05</td>\n",
              "      <td>7,072.38</td>\n",
              "      <td>493880000.0</td>\n",
              "      <td>0.18%</td>\n",
              "    </tr>\n",
              "    <tr>\n",
              "      <th>624</th>\n",
              "      <td>2018-01-05</td>\n",
              "      <td>7,136.56</td>\n",
              "      <td>7,105.74</td>\n",
              "      <td>7,137.04</td>\n",
              "      <td>7,097.08</td>\n",
              "      <td>476410000.0</td>\n",
              "      <td>0.83%</td>\n",
              "    </tr>\n",
              "    <tr>\n",
              "      <th>623</th>\n",
              "      <td>2018-01-08</td>\n",
              "      <td>7,157.39</td>\n",
              "      <td>7,135.38</td>\n",
              "      <td>7,161.35</td>\n",
              "      <td>7,124.09</td>\n",
              "      <td>497210000.0</td>\n",
              "      <td>0.29%</td>\n",
              "    </tr>\n",
              "  </tbody>\n",
              "</table>\n",
              "</div>"
            ],
            "text/plain": [
              "          Date     Close      Open      High       Low       Volume Change\n",
              "627 2018-01-02  7,006.90  6,937.65  7,006.91  6,924.08  462200000.0  1.50%\n",
              "626 2018-01-03  7,065.53  7,017.07  7,069.15  7,016.70  483920000.0  0.84%\n",
              "625 2018-01-04  7,077.91  7,089.50  7,098.05  7,072.38  493880000.0  0.18%\n",
              "624 2018-01-05  7,136.56  7,105.74  7,137.04  7,097.08  476410000.0  0.83%\n",
              "623 2018-01-08  7,157.39  7,135.38  7,161.35  7,124.09  497210000.0  0.29%"
            ]
          },
          "metadata": {
            "tags": []
          },
          "execution_count": 12
        },
        {
          "output_type": "stream",
          "text": [
            "time: 33.5 ms\n"
          ],
          "name": "stdout"
        }
      ]
    },
    {
      "cell_type": "code",
      "metadata": {
        "id": "Mh31NIH6BhJa",
        "colab_type": "code",
        "colab": {
          "base_uri": "https://localhost:8080/",
          "height": 35
        },
        "outputId": "598905ba-4795-4eaf-da10-f89e8d9cc2a1"
      },
      "source": [
        "nasdaq['Close'] = nasdaq['Close'].str.replace(\",\", \"\")\n",
        "nasdaq['Open'] = nasdaq['Open'].str.replace(\",\", \"\")\n",
        "nasdaq['High'] = nasdaq['High'].str.replace(\",\", \"\")\n",
        "nasdaq['Low'] = nasdaq['Low'].str.replace(\",\", \"\")"
      ],
      "execution_count": 13,
      "outputs": [
        {
          "output_type": "stream",
          "text": [
            "time: 10.3 ms\n"
          ],
          "name": "stdout"
        }
      ]
    },
    {
      "cell_type": "code",
      "metadata": {
        "id": "wwTAsWJxBLyE",
        "colab_type": "code",
        "colab": {
          "base_uri": "https://localhost:8080/",
          "height": 35
        },
        "outputId": "d3d62e55-b9d7-40c0-e420-30648d661d93"
      },
      "source": [
        "nasdaq = nasdaq.astype({'Close' : 'float',\n",
        "                    'Open' : 'float',\n",
        "                    'High' : 'float',\n",
        "                    'Low' : 'float'})"
      ],
      "execution_count": 14,
      "outputs": [
        {
          "output_type": "stream",
          "text": [
            "time: 6.48 ms\n"
          ],
          "name": "stdout"
        }
      ]
    },
    {
      "cell_type": "code",
      "metadata": {
        "id": "NhTwExLjB2r6",
        "colab_type": "code",
        "colab": {
          "base_uri": "https://localhost:8080/",
          "height": 161
        },
        "outputId": "4d2a8eb0-0e4c-401c-960d-c7b01bca95cd"
      },
      "source": [
        "stock.isnull().sum()\n",
        "nasdaq.isnull().sum()"
      ],
      "execution_count": 15,
      "outputs": [
        {
          "output_type": "execute_result",
          "data": {
            "text/plain": [
              "Date      0\n",
              "Close     0\n",
              "Open      0\n",
              "High      0\n",
              "Low       0\n",
              "Volume    0\n",
              "Change    0\n",
              "dtype: int64"
            ]
          },
          "metadata": {
            "tags": []
          },
          "execution_count": 15
        },
        {
          "output_type": "stream",
          "text": [
            "time: 9.58 ms\n"
          ],
          "name": "stdout"
        }
      ]
    },
    {
      "cell_type": "code",
      "metadata": {
        "id": "FRxhsT9WCG_9",
        "colab_type": "code",
        "colab": {
          "base_uri": "https://localhost:8080/",
          "height": 759
        },
        "outputId": "3c333b9d-cf9a-4cd0-9f17-4bf598e739f8"
      },
      "source": [
        "setidx_stock = stock.set_index('Date')\n",
        "setidx_nasdaq = nasdaq.set_index('Date')\n",
        "\n",
        "data_info(setidx_stock)\n",
        "data_info(setidx_nasdaq)"
      ],
      "execution_count": 16,
      "outputs": [
        {
          "output_type": "stream",
          "text": [
            "shape : (613, 6)\n",
            "dtypes : Open        int64\n",
            "High        int64\n",
            "Low         int64\n",
            "Close       int64\n",
            "Volume      int64\n",
            "Change    float64\n",
            "dtype: object\n"
          ],
          "name": "stdout"
        },
        {
          "output_type": "display_data",
          "data": {
            "text/html": [
              "<div>\n",
              "<style scoped>\n",
              "    .dataframe tbody tr th:only-of-type {\n",
              "        vertical-align: middle;\n",
              "    }\n",
              "\n",
              "    .dataframe tbody tr th {\n",
              "        vertical-align: top;\n",
              "    }\n",
              "\n",
              "    .dataframe thead th {\n",
              "        text-align: right;\n",
              "    }\n",
              "</style>\n",
              "<table border=\"1\" class=\"dataframe\">\n",
              "  <thead>\n",
              "    <tr style=\"text-align: right;\">\n",
              "      <th></th>\n",
              "      <th>Open</th>\n",
              "      <th>High</th>\n",
              "      <th>Low</th>\n",
              "      <th>Close</th>\n",
              "      <th>Volume</th>\n",
              "      <th>Change</th>\n",
              "    </tr>\n",
              "    <tr>\n",
              "      <th>Date</th>\n",
              "      <th></th>\n",
              "      <th></th>\n",
              "      <th></th>\n",
              "      <th></th>\n",
              "      <th></th>\n",
              "      <th></th>\n",
              "    </tr>\n",
              "  </thead>\n",
              "  <tbody>\n",
              "    <tr>\n",
              "      <th>2018-01-02</th>\n",
              "      <td>51380</td>\n",
              "      <td>51400</td>\n",
              "      <td>50780</td>\n",
              "      <td>51020</td>\n",
              "      <td>169485</td>\n",
              "      <td>0.001177</td>\n",
              "    </tr>\n",
              "    <tr>\n",
              "      <th>2018-01-03</th>\n",
              "      <td>52540</td>\n",
              "      <td>52560</td>\n",
              "      <td>51420</td>\n",
              "      <td>51620</td>\n",
              "      <td>200270</td>\n",
              "      <td>0.011760</td>\n",
              "    </tr>\n",
              "    <tr>\n",
              "      <th>2018-01-04</th>\n",
              "      <td>52120</td>\n",
              "      <td>52180</td>\n",
              "      <td>50640</td>\n",
              "      <td>51080</td>\n",
              "      <td>233909</td>\n",
              "      <td>-0.010461</td>\n",
              "    </tr>\n",
              "    <tr>\n",
              "      <th>2018-01-05</th>\n",
              "      <td>51300</td>\n",
              "      <td>52120</td>\n",
              "      <td>51200</td>\n",
              "      <td>52120</td>\n",
              "      <td>189623</td>\n",
              "      <td>0.020360</td>\n",
              "    </tr>\n",
              "    <tr>\n",
              "      <th>2018-01-08</th>\n",
              "      <td>52400</td>\n",
              "      <td>52520</td>\n",
              "      <td>51500</td>\n",
              "      <td>52020</td>\n",
              "      <td>167673</td>\n",
              "      <td>-0.001919</td>\n",
              "    </tr>\n",
              "  </tbody>\n",
              "</table>\n",
              "</div>"
            ],
            "text/plain": [
              "             Open   High    Low  Close  Volume    Change\n",
              "Date                                                    \n",
              "2018-01-02  51380  51400  50780  51020  169485  0.001177\n",
              "2018-01-03  52540  52560  51420  51620  200270  0.011760\n",
              "2018-01-04  52120  52180  50640  51080  233909 -0.010461\n",
              "2018-01-05  51300  52120  51200  52120  189623  0.020360\n",
              "2018-01-08  52400  52520  51500  52020  167673 -0.001919"
            ]
          },
          "metadata": {
            "tags": []
          }
        },
        {
          "output_type": "stream",
          "text": [
            "shape : (628, 6)\n",
            "dtypes : Close     float64\n",
            "Open      float64\n",
            "High      float64\n",
            "Low       float64\n",
            "Volume    float64\n",
            "Change     object\n",
            "dtype: object\n"
          ],
          "name": "stdout"
        },
        {
          "output_type": "display_data",
          "data": {
            "text/html": [
              "<div>\n",
              "<style scoped>\n",
              "    .dataframe tbody tr th:only-of-type {\n",
              "        vertical-align: middle;\n",
              "    }\n",
              "\n",
              "    .dataframe tbody tr th {\n",
              "        vertical-align: top;\n",
              "    }\n",
              "\n",
              "    .dataframe thead th {\n",
              "        text-align: right;\n",
              "    }\n",
              "</style>\n",
              "<table border=\"1\" class=\"dataframe\">\n",
              "  <thead>\n",
              "    <tr style=\"text-align: right;\">\n",
              "      <th></th>\n",
              "      <th>Close</th>\n",
              "      <th>Open</th>\n",
              "      <th>High</th>\n",
              "      <th>Low</th>\n",
              "      <th>Volume</th>\n",
              "      <th>Change</th>\n",
              "    </tr>\n",
              "    <tr>\n",
              "      <th>Date</th>\n",
              "      <th></th>\n",
              "      <th></th>\n",
              "      <th></th>\n",
              "      <th></th>\n",
              "      <th></th>\n",
              "      <th></th>\n",
              "    </tr>\n",
              "  </thead>\n",
              "  <tbody>\n",
              "    <tr>\n",
              "      <th>2018-01-02</th>\n",
              "      <td>7006.90</td>\n",
              "      <td>6937.65</td>\n",
              "      <td>7006.91</td>\n",
              "      <td>6924.08</td>\n",
              "      <td>462200000.0</td>\n",
              "      <td>1.50%</td>\n",
              "    </tr>\n",
              "    <tr>\n",
              "      <th>2018-01-03</th>\n",
              "      <td>7065.53</td>\n",
              "      <td>7017.07</td>\n",
              "      <td>7069.15</td>\n",
              "      <td>7016.70</td>\n",
              "      <td>483920000.0</td>\n",
              "      <td>0.84%</td>\n",
              "    </tr>\n",
              "    <tr>\n",
              "      <th>2018-01-04</th>\n",
              "      <td>7077.91</td>\n",
              "      <td>7089.50</td>\n",
              "      <td>7098.05</td>\n",
              "      <td>7072.38</td>\n",
              "      <td>493880000.0</td>\n",
              "      <td>0.18%</td>\n",
              "    </tr>\n",
              "    <tr>\n",
              "      <th>2018-01-05</th>\n",
              "      <td>7136.56</td>\n",
              "      <td>7105.74</td>\n",
              "      <td>7137.04</td>\n",
              "      <td>7097.08</td>\n",
              "      <td>476410000.0</td>\n",
              "      <td>0.83%</td>\n",
              "    </tr>\n",
              "    <tr>\n",
              "      <th>2018-01-08</th>\n",
              "      <td>7157.39</td>\n",
              "      <td>7135.38</td>\n",
              "      <td>7161.35</td>\n",
              "      <td>7124.09</td>\n",
              "      <td>497210000.0</td>\n",
              "      <td>0.29%</td>\n",
              "    </tr>\n",
              "  </tbody>\n",
              "</table>\n",
              "</div>"
            ],
            "text/plain": [
              "              Close     Open     High      Low       Volume Change\n",
              "Date                                                              \n",
              "2018-01-02  7006.90  6937.65  7006.91  6924.08  462200000.0  1.50%\n",
              "2018-01-03  7065.53  7017.07  7069.15  7016.70  483920000.0  0.84%\n",
              "2018-01-04  7077.91  7089.50  7098.05  7072.38  493880000.0  0.18%\n",
              "2018-01-05  7136.56  7105.74  7137.04  7097.08  476410000.0  0.83%\n",
              "2018-01-08  7157.39  7135.38  7161.35  7124.09  497210000.0  0.29%"
            ]
          },
          "metadata": {
            "tags": []
          }
        },
        {
          "output_type": "stream",
          "text": [
            "time: 47.2 ms\n"
          ],
          "name": "stdout"
        }
      ]
    },
    {
      "cell_type": "code",
      "metadata": {
        "id": "uu8Bv2I9CCyS",
        "colab_type": "code",
        "colab": {
          "base_uri": "https://localhost:8080/",
          "height": 311
        },
        "outputId": "584e872e-1c11-45ef-8673-f94e1bc502ec"
      },
      "source": [
        "scaling_stock = setidx_stock['Close']/setidx_stock['Close'].iloc[0] *100\n",
        "scaling_nasdaq = setidx_nasdaq['Close']/setidx_nasdaq['Close'].iloc[0] *100\n",
        "\n",
        "scaling_stock.plot()\n",
        "scaling_nasdaq.plot()\n",
        "plt.title(\"Samsung&NASDAQ\")\n",
        "plt.legend(['Samsung E', 'NASDAQ'])\n",
        "plt.show()"
      ],
      "execution_count": 17,
      "outputs": [
        {
          "output_type": "display_data",
          "data": {
            "image/png": "[encoded data removed]",
            "text/plain": [
              "<Figure size 432x288 with 1 Axes>"
            ]
          },
          "metadata": {
            "tags": [],
            "needs_background": "light"
          }
        },
        {
          "output_type": "stream",
          "text": [
            "time: 271 ms\n"
          ],
          "name": "stdout"
        }
      ]
    },
    {
      "cell_type": "code",
      "metadata": {
        "id": "m3f1ROK8CjZq",
        "colab_type": "code",
        "colab": {
          "base_uri": "https://localhost:8080/",
          "height": 348
        },
        "outputId": "90996680-0098-4798-dfea-73e3bb61e324"
      },
      "source": [
        "heatmap_data = pd.merge(stock[['Date','Close', 'Volume']],\n",
        "                        nasdaq[['Date','Close', 'Volume']],\n",
        "                        on='Date',\n",
        "                        how='outer')\n",
        "\n",
        "data_info(heatmap_data)"
      ],
      "execution_count": 18,
      "outputs": [
        {
          "output_type": "stream",
          "text": [
            "shape : (647, 5)\n",
            "dtypes : Date        datetime64[ns]\n",
            "Close_x            float64\n",
            "Volume_x           float64\n",
            "Close_y            float64\n",
            "Volume_y           float64\n",
            "dtype: object\n"
          ],
          "name": "stdout"
        },
        {
          "output_type": "display_data",
          "data": {
            "text/html": [
              "<div>\n",
              "<style scoped>\n",
              "    .dataframe tbody tr th:only-of-type {\n",
              "        vertical-align: middle;\n",
              "    }\n",
              "\n",
              "    .dataframe tbody tr th {\n",
              "        vertical-align: top;\n",
              "    }\n",
              "\n",
              "    .dataframe thead th {\n",
              "        text-align: right;\n",
              "    }\n",
              "</style>\n",
              "<table border=\"1\" class=\"dataframe\">\n",
              "  <thead>\n",
              "    <tr style=\"text-align: right;\">\n",
              "      <th></th>\n",
              "      <th>Date</th>\n",
              "      <th>Close_x</th>\n",
              "      <th>Volume_x</th>\n",
              "      <th>Close_y</th>\n",
              "      <th>Volume_y</th>\n",
              "    </tr>\n",
              "  </thead>\n",
              "  <tbody>\n",
              "    <tr>\n",
              "      <th>0</th>\n",
              "      <td>2018-01-02</td>\n",
              "      <td>51020.0</td>\n",
              "      <td>169485.0</td>\n",
              "      <td>7006.90</td>\n",
              "      <td>462200000.0</td>\n",
              "    </tr>\n",
              "    <tr>\n",
              "      <th>1</th>\n",
              "      <td>2018-01-03</td>\n",
              "      <td>51620.0</td>\n",
              "      <td>200270.0</td>\n",
              "      <td>7065.53</td>\n",
              "      <td>483920000.0</td>\n",
              "    </tr>\n",
              "    <tr>\n",
              "      <th>2</th>\n",
              "      <td>2018-01-04</td>\n",
              "      <td>51080.0</td>\n",
              "      <td>233909.0</td>\n",
              "      <td>7077.91</td>\n",
              "      <td>493880000.0</td>\n",
              "    </tr>\n",
              "    <tr>\n",
              "      <th>3</th>\n",
              "      <td>2018-01-05</td>\n",
              "      <td>52120.0</td>\n",
              "      <td>189623.0</td>\n",
              "      <td>7136.56</td>\n",
              "      <td>476410000.0</td>\n",
              "    </tr>\n",
              "    <tr>\n",
              "      <th>4</th>\n",
              "      <td>2018-01-08</td>\n",
              "      <td>52020.0</td>\n",
              "      <td>167673.0</td>\n",
              "      <td>7157.39</td>\n",
              "      <td>497210000.0</td>\n",
              "    </tr>\n",
              "  </tbody>\n",
              "</table>\n",
              "</div>"
            ],
            "text/plain": [
              "        Date  Close_x  Volume_x  Close_y     Volume_y\n",
              "0 2018-01-02  51020.0  169485.0  7006.90  462200000.0\n",
              "1 2018-01-03  51620.0  200270.0  7065.53  483920000.0\n",
              "2 2018-01-04  51080.0  233909.0  7077.91  493880000.0\n",
              "3 2018-01-05  52120.0  189623.0  7136.56  476410000.0\n",
              "4 2018-01-08  52020.0  167673.0  7157.39  497210000.0"
            ]
          },
          "metadata": {
            "tags": []
          }
        },
        {
          "output_type": "stream",
          "text": [
            "time: 30.2 ms\n"
          ],
          "name": "stdout"
        }
      ]
    },
    {
      "cell_type": "code",
      "metadata": {
        "id": "vrhmLNbXC6pv",
        "colab_type": "code",
        "colab": {
          "base_uri": "https://localhost:8080/",
          "height": 35
        },
        "outputId": "d07ca5f4-0a6d-4416-8796-3c8caf4ba7b7"
      },
      "source": [
        "heatmap_data.columns = ['Date', 'Close_ss', 'Volume_ss', 'Close_n', 'Volume_n']"
      ],
      "execution_count": 19,
      "outputs": [
        {
          "output_type": "stream",
          "text": [
            "time: 1.96 ms\n"
          ],
          "name": "stdout"
        }
      ]
    },
    {
      "cell_type": "code",
      "metadata": {
        "id": "DtsWDVX4CvpF",
        "colab_type": "code",
        "colab": {
          "base_uri": "https://localhost:8080/",
          "height": 331
        },
        "outputId": "62a20130-5ec1-449f-8ba4-d8e833ef3034"
      },
      "source": [
        "colormap = plt.cm.PuBu\n",
        "plt.figure(figsize=(6, 4))\n",
        "plt.title(\"Pearson Correlation of Total data\", y = 1.05, size = 15)\n",
        "sns.heatmap(heatmap_data[['Close_ss', 'Volume_ss', 'Close_n', 'Volume_n']].astype(float).corr(),\n",
        "            linewidths = 0.1, vmax = 1.0,\n",
        "            square = True, cmap = colormap,\n",
        "            linecolor = \"white\", annot = True,\n",
        "            annot_kws = {\"size\" : 12})"
      ],
      "execution_count": 20,
      "outputs": [
        {
          "output_type": "execute_result",
          "data": {
            "text/plain": [
              "<matplotlib.axes._subplots.AxesSubplot at 0x7f4a4a81fda0>"
            ]
          },
          "metadata": {
            "tags": []
          },
          "execution_count": 20
        },
        {
          "output_type": "display_data",
          "data": {
            "image/png": "[encoded data removed]",
            "text/plain": [
              "<Figure size 432x288 with 2 Axes>"
            ]
          },
          "metadata": {
            "tags": [],
            "needs_background": "light"
          }
        },
        {
          "output_type": "stream",
          "text": [
            "time: 304 ms\n"
          ],
          "name": "stdout"
        }
      ]
    },
    {
      "cell_type": "code",
      "metadata": {
        "id": "-v4B7EpgDH-q",
        "colab_type": "code",
        "colab": {
          "base_uri": "https://localhost:8080/",
          "height": 35
        },
        "outputId": "fed66026-7aa0-4d24-f221-2287d29b0fcf"
      },
      "source": [
        "setidx_nasdaq.columns = ['Close_n', 'Open_n', 'High_n', 'Low_n', 'Volume_n', 'Change_n']"
      ],
      "execution_count": 21,
      "outputs": [
        {
          "output_type": "stream",
          "text": [
            "time: 2.49 ms\n"
          ],
          "name": "stdout"
        }
      ]
    },
    {
      "cell_type": "code",
      "metadata": {
        "id": "QQ4I3GEADkrD",
        "colab_type": "code",
        "colab": {
          "base_uri": "https://localhost:8080/",
          "height": 35
        },
        "outputId": "3397ce79-28df-4904-a63c-9d03334a0855"
      },
      "source": [
        "corr_data = pd.merge(setidx_stock, setidx_nasdaq, left_index=True, right_index=True, how='outer')"
      ],
      "execution_count": 22,
      "outputs": [
        {
          "output_type": "stream",
          "text": [
            "time: 7.89 ms\n"
          ],
          "name": "stdout"
        }
      ]
    },
    {
      "cell_type": "code",
      "metadata": {
        "id": "U0xOZZSSDp4o",
        "colab_type": "code",
        "colab": {
          "base_uri": "https://localhost:8080/",
          "height": 505
        },
        "outputId": "8926ada2-f3c6-41b8-964b-839397e8e36e"
      },
      "source": [
        "data_info(corr_data)"
      ],
      "execution_count": 23,
      "outputs": [
        {
          "output_type": "stream",
          "text": [
            "shape : (647, 12)\n",
            "dtypes : Open        float64\n",
            "High        float64\n",
            "Low         float64\n",
            "Close       float64\n",
            "Volume      float64\n",
            "Change      float64\n",
            "Close_n     float64\n",
            "Open_n      float64\n",
            "High_n      float64\n",
            "Low_n       float64\n",
            "Volume_n    float64\n",
            "Change_n     object\n",
            "dtype: object\n"
          ],
          "name": "stdout"
        },
        {
          "output_type": "display_data",
          "data": {
            "text/html": [
              "<div>\n",
              "<style scoped>\n",
              "    .dataframe tbody tr th:only-of-type {\n",
              "        vertical-align: middle;\n",
              "    }\n",
              "\n",
              "    .dataframe tbody tr th {\n",
              "        vertical-align: top;\n",
              "    }\n",
              "\n",
              "    .dataframe thead th {\n",
              "        text-align: right;\n",
              "    }\n",
              "</style>\n",
              "<table border=\"1\" class=\"dataframe\">\n",
              "  <thead>\n",
              "    <tr style=\"text-align: right;\">\n",
              "      <th></th>\n",
              "      <th>Open</th>\n",
              "      <th>High</th>\n",
              "      <th>Low</th>\n",
              "      <th>Close</th>\n",
              "      <th>Volume</th>\n",
              "      <th>Change</th>\n",
              "      <th>Close_n</th>\n",
              "      <th>Open_n</th>\n",
              "      <th>High_n</th>\n",
              "      <th>Low_n</th>\n",
              "      <th>Volume_n</th>\n",
              "      <th>Change_n</th>\n",
              "    </tr>\n",
              "    <tr>\n",
              "      <th>Date</th>\n",
              "      <th></th>\n",
              "      <th></th>\n",
              "      <th></th>\n",
              "      <th></th>\n",
              "      <th></th>\n",
              "      <th></th>\n",
              "      <th></th>\n",
              "      <th></th>\n",
              "      <th></th>\n",
              "      <th></th>\n",
              "      <th></th>\n",
              "      <th></th>\n",
              "    </tr>\n",
              "  </thead>\n",
              "  <tbody>\n",
              "    <tr>\n",
              "      <th>2018-01-02</th>\n",
              "      <td>51380.0</td>\n",
              "      <td>51400.0</td>\n",
              "      <td>50780.0</td>\n",
              "      <td>51020.0</td>\n",
              "      <td>169485.0</td>\n",
              "      <td>0.001177</td>\n",
              "      <td>7006.90</td>\n",
              "      <td>6937.65</td>\n",
              "      <td>7006.91</td>\n",
              "      <td>6924.08</td>\n",
              "      <td>462200000.0</td>\n",
              "      <td>1.50%</td>\n",
              "    </tr>\n",
              "    <tr>\n",
              "      <th>2018-01-03</th>\n",
              "      <td>52540.0</td>\n",
              "      <td>52560.0</td>\n",
              "      <td>51420.0</td>\n",
              "      <td>51620.0</td>\n",
              "      <td>200270.0</td>\n",
              "      <td>0.011760</td>\n",
              "      <td>7065.53</td>\n",
              "      <td>7017.07</td>\n",
              "      <td>7069.15</td>\n",
              "      <td>7016.70</td>\n",
              "      <td>483920000.0</td>\n",
              "      <td>0.84%</td>\n",
              "    </tr>\n",
              "    <tr>\n",
              "      <th>2018-01-04</th>\n",
              "      <td>52120.0</td>\n",
              "      <td>52180.0</td>\n",
              "      <td>50640.0</td>\n",
              "      <td>51080.0</td>\n",
              "      <td>233909.0</td>\n",
              "      <td>-0.010461</td>\n",
              "      <td>7077.91</td>\n",
              "      <td>7089.50</td>\n",
              "      <td>7098.05</td>\n",
              "      <td>7072.38</td>\n",
              "      <td>493880000.0</td>\n",
              "      <td>0.18%</td>\n",
              "    </tr>\n",
              "    <tr>\n",
              "      <th>2018-01-05</th>\n",
              "      <td>51300.0</td>\n",
              "      <td>52120.0</td>\n",
              "      <td>51200.0</td>\n",
              "      <td>52120.0</td>\n",
              "      <td>189623.0</td>\n",
              "      <td>0.020360</td>\n",
              "      <td>7136.56</td>\n",
              "      <td>7105.74</td>\n",
              "      <td>7137.04</td>\n",
              "      <td>7097.08</td>\n",
              "      <td>476410000.0</td>\n",
              "      <td>0.83%</td>\n",
              "    </tr>\n",
              "    <tr>\n",
              "      <th>2018-01-08</th>\n",
              "      <td>52400.0</td>\n",
              "      <td>52520.0</td>\n",
              "      <td>51500.0</td>\n",
              "      <td>52020.0</td>\n",
              "      <td>167673.0</td>\n",
              "      <td>-0.001919</td>\n",
              "      <td>7157.39</td>\n",
              "      <td>7135.38</td>\n",
              "      <td>7161.35</td>\n",
              "      <td>7124.09</td>\n",
              "      <td>497210000.0</td>\n",
              "      <td>0.29%</td>\n",
              "    </tr>\n",
              "  </tbody>\n",
              "</table>\n",
              "</div>"
            ],
            "text/plain": [
              "               Open     High      Low  ...    Low_n     Volume_n  Change_n\n",
              "Date                                   ...                                \n",
              "2018-01-02  51380.0  51400.0  50780.0  ...  6924.08  462200000.0     1.50%\n",
              "2018-01-03  52540.0  52560.0  51420.0  ...  7016.70  483920000.0     0.84%\n",
              "2018-01-04  52120.0  52180.0  50640.0  ...  7072.38  493880000.0     0.18%\n",
              "2018-01-05  51300.0  52120.0  51200.0  ...  7097.08  476410000.0     0.83%\n",
              "2018-01-08  52400.0  52520.0  51500.0  ...  7124.09  497210000.0     0.29%\n",
              "\n",
              "[5 rows x 12 columns]"
            ]
          },
          "metadata": {
            "tags": []
          }
        },
        {
          "output_type": "stream",
          "text": [
            "time: 47.4 ms\n"
          ],
          "name": "stdout"
        }
      ]
    },
    {
      "cell_type": "code",
      "metadata": {
        "id": "_6AFBXJsDuvH",
        "colab_type": "code",
        "colab": {
          "base_uri": "https://localhost:8080/",
          "height": 251
        },
        "outputId": "1aab0546-5852-4ae7-ee43-33b495e91ef0"
      },
      "source": [
        "corr_data.isnull().sum()"
      ],
      "execution_count": 24,
      "outputs": [
        {
          "output_type": "execute_result",
          "data": {
            "text/plain": [
              "Open        34\n",
              "High        34\n",
              "Low         34\n",
              "Close       34\n",
              "Volume      34\n",
              "Change      34\n",
              "Close_n     19\n",
              "Open_n      19\n",
              "High_n      19\n",
              "Low_n       19\n",
              "Volume_n    19\n",
              "Change_n    19\n",
              "dtype: int64"
            ]
          },
          "metadata": {
            "tags": []
          },
          "execution_count": 24
        },
        {
          "output_type": "stream",
          "text": [
            "time: 15.9 ms\n"
          ],
          "name": "stdout"
        }
      ]
    },
    {
      "cell_type": "code",
      "metadata": {
        "id": "9DYH28wuDznN",
        "colab_type": "code",
        "colab": {
          "base_uri": "https://localhost:8080/",
          "height": 35
        },
        "outputId": "f0ac0029-9305-4120-8c0a-374c68ee1e8a"
      },
      "source": [
        "corr_data = corr_data.dropna(axis=0)"
      ],
      "execution_count": 25,
      "outputs": [
        {
          "output_type": "stream",
          "text": [
            "time: 6.77 ms\n"
          ],
          "name": "stdout"
        }
      ]
    },
    {
      "cell_type": "code",
      "metadata": {
        "id": "mC0pzAxKD4Iv",
        "colab_type": "code",
        "colab": {
          "base_uri": "https://localhost:8080/",
          "height": 721
        },
        "outputId": "234e1df5-9944-4078-a0a5-ea3d55f40345"
      },
      "source": [
        "data_info(corr_data)\n",
        "corr_data.isnull().sum()"
      ],
      "execution_count": 26,
      "outputs": [
        {
          "output_type": "stream",
          "text": [
            "shape : (594, 12)\n",
            "dtypes : Open        float64\n",
            "High        float64\n",
            "Low         float64\n",
            "Close       float64\n",
            "Volume      float64\n",
            "Change      float64\n",
            "Close_n     float64\n",
            "Open_n      float64\n",
            "High_n      float64\n",
            "Low_n       float64\n",
            "Volume_n    float64\n",
            "Change_n     object\n",
            "dtype: object\n"
          ],
          "name": "stdout"
        },
        {
          "output_type": "display_data",
          "data": {
            "text/html": [
              "<div>\n",
              "<style scoped>\n",
              "    .dataframe tbody tr th:only-of-type {\n",
              "        vertical-align: middle;\n",
              "    }\n",
              "\n",
              "    .dataframe tbody tr th {\n",
              "        vertical-align: top;\n",
              "    }\n",
              "\n",
              "    .dataframe thead th {\n",
              "        text-align: right;\n",
              "    }\n",
              "</style>\n",
              "<table border=\"1\" class=\"dataframe\">\n",
              "  <thead>\n",
              "    <tr style=\"text-align: right;\">\n",
              "      <th></th>\n",
              "      <th>Open</th>\n",
              "      <th>High</th>\n",
              "      <th>Low</th>\n",
              "      <th>Close</th>\n",
              "      <th>Volume</th>\n",
              "      <th>Change</th>\n",
              "      <th>Close_n</th>\n",
              "      <th>Open_n</th>\n",
              "      <th>High_n</th>\n",
              "      <th>Low_n</th>\n",
              "      <th>Volume_n</th>\n",
              "      <th>Change_n</th>\n",
              "    </tr>\n",
              "    <tr>\n",
              "      <th>Date</th>\n",
              "      <th></th>\n",
              "      <th></th>\n",
              "      <th></th>\n",
              "      <th></th>\n",
              "      <th></th>\n",
              "      <th></th>\n",
              "      <th></th>\n",
              "      <th></th>\n",
              "      <th></th>\n",
              "      <th></th>\n",
              "      <th></th>\n",
              "      <th></th>\n",
              "    </tr>\n",
              "  </thead>\n",
              "  <tbody>\n",
              "    <tr>\n",
              "      <th>2018-01-02</th>\n",
              "      <td>51380.0</td>\n",
              "      <td>51400.0</td>\n",
              "      <td>50780.0</td>\n",
              "      <td>51020.0</td>\n",
              "      <td>169485.0</td>\n",
              "      <td>0.001177</td>\n",
              "      <td>7006.90</td>\n",
              "      <td>6937.65</td>\n",
              "      <td>7006.91</td>\n",
              "      <td>6924.08</td>\n",
              "      <td>462200000.0</td>\n",
              "      <td>1.50%</td>\n",
              "    </tr>\n",
              "    <tr>\n",
              "      <th>2018-01-03</th>\n",
              "      <td>52540.0</td>\n",
              "      <td>52560.0</td>\n",
              "      <td>51420.0</td>\n",
              "      <td>51620.0</td>\n",
              "      <td>200270.0</td>\n",
              "      <td>0.011760</td>\n",
              "      <td>7065.53</td>\n",
              "      <td>7017.07</td>\n",
              "      <td>7069.15</td>\n",
              "      <td>7016.70</td>\n",
              "      <td>483920000.0</td>\n",
              "      <td>0.84%</td>\n",
              "    </tr>\n",
              "    <tr>\n",
              "      <th>2018-01-04</th>\n",
              "      <td>52120.0</td>\n",
              "      <td>52180.0</td>\n",
              "      <td>50640.0</td>\n",
              "      <td>51080.0</td>\n",
              "      <td>233909.0</td>\n",
              "      <td>-0.010461</td>\n",
              "      <td>7077.91</td>\n",
              "      <td>7089.50</td>\n",
              "      <td>7098.05</td>\n",
              "      <td>7072.38</td>\n",
              "      <td>493880000.0</td>\n",
              "      <td>0.18%</td>\n",
              "    </tr>\n",
              "    <tr>\n",
              "      <th>2018-01-05</th>\n",
              "      <td>51300.0</td>\n",
              "      <td>52120.0</td>\n",
              "      <td>51200.0</td>\n",
              "      <td>52120.0</td>\n",
              "      <td>189623.0</td>\n",
              "      <td>0.020360</td>\n",
              "      <td>7136.56</td>\n",
              "      <td>7105.74</td>\n",
              "      <td>7137.04</td>\n",
              "      <td>7097.08</td>\n",
              "      <td>476410000.0</td>\n",
              "      <td>0.83%</td>\n",
              "    </tr>\n",
              "    <tr>\n",
              "      <th>2018-01-08</th>\n",
              "      <td>52400.0</td>\n",
              "      <td>52520.0</td>\n",
              "      <td>51500.0</td>\n",
              "      <td>52020.0</td>\n",
              "      <td>167673.0</td>\n",
              "      <td>-0.001919</td>\n",
              "      <td>7157.39</td>\n",
              "      <td>7135.38</td>\n",
              "      <td>7161.35</td>\n",
              "      <td>7124.09</td>\n",
              "      <td>497210000.0</td>\n",
              "      <td>0.29%</td>\n",
              "    </tr>\n",
              "  </tbody>\n",
              "</table>\n",
              "</div>"
            ],
            "text/plain": [
              "               Open     High      Low  ...    Low_n     Volume_n  Change_n\n",
              "Date                                   ...                                \n",
              "2018-01-02  51380.0  51400.0  50780.0  ...  6924.08  462200000.0     1.50%\n",
              "2018-01-03  52540.0  52560.0  51420.0  ...  7016.70  483920000.0     0.84%\n",
              "2018-01-04  52120.0  52180.0  50640.0  ...  7072.38  493880000.0     0.18%\n",
              "2018-01-05  51300.0  52120.0  51200.0  ...  7097.08  476410000.0     0.83%\n",
              "2018-01-08  52400.0  52520.0  51500.0  ...  7124.09  497210000.0     0.29%\n",
              "\n",
              "[5 rows x 12 columns]"
            ]
          },
          "metadata": {
            "tags": []
          }
        },
        {
          "output_type": "execute_result",
          "data": {
            "text/plain": [
              "Open        0\n",
              "High        0\n",
              "Low         0\n",
              "Close       0\n",
              "Volume      0\n",
              "Change      0\n",
              "Close_n     0\n",
              "Open_n      0\n",
              "High_n      0\n",
              "Low_n       0\n",
              "Volume_n    0\n",
              "Change_n    0\n",
              "dtype: int64"
            ]
          },
          "metadata": {
            "tags": []
          },
          "execution_count": 26
        },
        {
          "output_type": "stream",
          "text": [
            "time: 38.1 ms\n"
          ],
          "name": "stdout"
        }
      ]
    },
    {
      "cell_type": "code",
      "metadata": {
        "id": "QlSzgstED8Yg",
        "colab_type": "code",
        "colab": {
          "base_uri": "https://localhost:8080/",
          "height": 287
        },
        "outputId": "d98f5bd2-5dd7-4d28-fa55-d26890531048"
      },
      "source": [
        "re = corr_data.corr(method='pearson')\n",
        "print(re)"
      ],
      "execution_count": 27,
      "outputs": [
        {
          "output_type": "stream",
          "text": [
            "              Open      High       Low  ...    High_n     Low_n  Volume_n\n",
            "Open      1.000000  0.996196  0.996841  ...  0.590958  0.590601  0.143727\n",
            "High      0.996196  1.000000  0.995909  ...  0.591171  0.588110  0.157657\n",
            "Low       0.996841  0.995909  1.000000  ...  0.597384  0.598900  0.130639\n",
            "Close     0.749832  0.755031  0.752494  ...  0.673908  0.675254  0.150964\n",
            "Volume    0.182904  0.204006  0.160564  ...  0.342168  0.280344  0.558059\n",
            "Change   -0.010980  0.026400  0.025022  ...  0.047268  0.065991 -0.021449\n",
            "Close_n   0.589438  0.589215  0.597316  ...  0.995555  0.996072  0.305824\n",
            "Open_n    0.589712  0.588466  0.597357  ...  0.996822  0.995778  0.315946\n",
            "High_n    0.590958  0.591171  0.597384  ...  1.000000  0.993285  0.345124\n",
            "Low_n     0.590601  0.588110  0.598900  ...  0.993285  1.000000  0.277543\n",
            "Volume_n  0.143727  0.157657  0.130639  ...  0.345124  0.277543  1.000000\n",
            "\n",
            "[11 rows x 11 columns]\n",
            "time: 29 ms\n"
          ],
          "name": "stdout"
        }
      ]
    },
    {
      "cell_type": "code",
      "metadata": {
        "id": "Eo1QNwaoEA24",
        "colab_type": "code",
        "colab": {
          "base_uri": "https://localhost:8080/",
          "height": 53
        },
        "outputId": "4e66f40e-2ed8-44b5-cbbb-2796770f3aee"
      },
      "source": [
        "corr = lambda p : p['Close'].corr(p['Close_n'])\n",
        "re_close =  corr(corr_data)\n",
        "\n",
        "print(re_close)"
      ],
      "execution_count": 28,
      "outputs": [
        {
          "output_type": "stream",
          "text": [
            "0.6727124168444573\n",
            "time: 5.04 ms\n"
          ],
          "name": "stdout"
        }
      ]
    },
    {
      "cell_type": "code",
      "metadata": {
        "id": "m1w4Nb--RRCQ",
        "colab_type": "code",
        "colab": {
          "base_uri": "https://localhost:8080/",
          "height": 253
        },
        "outputId": "8002d3f9-3361-4f0f-bf11-a6f9120c1718"
      },
      "source": [
        "corr_19 = corr_data.loc['2019-01-02':'2020-06-30']\n",
        "corr_19.head()"
      ],
      "execution_count": 29,
      "outputs": [
        {
          "output_type": "execute_result",
          "data": {
            "text/html": [
              "<div>\n",
              "<style scoped>\n",
              "    .dataframe tbody tr th:only-of-type {\n",
              "        vertical-align: middle;\n",
              "    }\n",
              "\n",
              "    .dataframe tbody tr th {\n",
              "        vertical-align: top;\n",
              "    }\n",
              "\n",
              "    .dataframe thead th {\n",
              "        text-align: right;\n",
              "    }\n",
              "</style>\n",
              "<table border=\"1\" class=\"dataframe\">\n",
              "  <thead>\n",
              "    <tr style=\"text-align: right;\">\n",
              "      <th></th>\n",
              "      <th>Open</th>\n",
              "      <th>High</th>\n",
              "      <th>Low</th>\n",
              "      <th>Close</th>\n",
              "      <th>Volume</th>\n",
              "      <th>Change</th>\n",
              "      <th>Close_n</th>\n",
              "      <th>Open_n</th>\n",
              "      <th>High_n</th>\n",
              "      <th>Low_n</th>\n",
              "      <th>Volume_n</th>\n",
              "      <th>Change_n</th>\n",
              "    </tr>\n",
              "    <tr>\n",
              "      <th>Date</th>\n",
              "      <th></th>\n",
              "      <th></th>\n",
              "      <th></th>\n",
              "      <th></th>\n",
              "      <th></th>\n",
              "      <th></th>\n",
              "      <th></th>\n",
              "      <th></th>\n",
              "      <th></th>\n",
              "      <th></th>\n",
              "      <th></th>\n",
              "      <th></th>\n",
              "    </tr>\n",
              "  </thead>\n",
              "  <tbody>\n",
              "    <tr>\n",
              "      <th>2019-01-02</th>\n",
              "      <td>39400.0</td>\n",
              "      <td>39400.0</td>\n",
              "      <td>38550.0</td>\n",
              "      <td>38750.0</td>\n",
              "      <td>7847664.0</td>\n",
              "      <td>0.001292</td>\n",
              "      <td>6665.94</td>\n",
              "      <td>6506.91</td>\n",
              "      <td>6693.71</td>\n",
              "      <td>6506.88</td>\n",
              "      <td>581370000.0</td>\n",
              "      <td>0.46%</td>\n",
              "    </tr>\n",
              "    <tr>\n",
              "      <th>2019-01-03</th>\n",
              "      <td>38300.0</td>\n",
              "      <td>38550.0</td>\n",
              "      <td>37450.0</td>\n",
              "      <td>37600.0</td>\n",
              "      <td>12471493.0</td>\n",
              "      <td>-0.029677</td>\n",
              "      <td>6463.50</td>\n",
              "      <td>6584.77</td>\n",
              "      <td>6600.21</td>\n",
              "      <td>6457.13</td>\n",
              "      <td>667440000.0</td>\n",
              "      <td>-3.04%</td>\n",
              "    </tr>\n",
              "    <tr>\n",
              "      <th>2019-01-04</th>\n",
              "      <td>37450.0</td>\n",
              "      <td>37600.0</td>\n",
              "      <td>36850.0</td>\n",
              "      <td>37450.0</td>\n",
              "      <td>14108958.0</td>\n",
              "      <td>-0.003989</td>\n",
              "      <td>6738.86</td>\n",
              "      <td>6567.14</td>\n",
              "      <td>6760.69</td>\n",
              "      <td>6554.24</td>\n",
              "      <td>688190000.0</td>\n",
              "      <td>4.26%</td>\n",
              "    </tr>\n",
              "    <tr>\n",
              "      <th>2019-01-07</th>\n",
              "      <td>38000.0</td>\n",
              "      <td>38900.0</td>\n",
              "      <td>37800.0</td>\n",
              "      <td>38750.0</td>\n",
              "      <td>12748997.0</td>\n",
              "      <td>0.034713</td>\n",
              "      <td>6823.47</td>\n",
              "      <td>6757.53</td>\n",
              "      <td>6855.60</td>\n",
              "      <td>6741.40</td>\n",
              "      <td>623290000.0</td>\n",
              "      <td>1.26%</td>\n",
              "    </tr>\n",
              "    <tr>\n",
              "      <th>2019-01-08</th>\n",
              "      <td>38000.0</td>\n",
              "      <td>39200.0</td>\n",
              "      <td>37950.0</td>\n",
              "      <td>38100.0</td>\n",
              "      <td>12756554.0</td>\n",
              "      <td>-0.016774</td>\n",
              "      <td>6897.00</td>\n",
              "      <td>6893.44</td>\n",
              "      <td>6909.58</td>\n",
              "      <td>6795.86</td>\n",
              "      <td>599420000.0</td>\n",
              "      <td>1.08%</td>\n",
              "    </tr>\n",
              "  </tbody>\n",
              "</table>\n",
              "</div>"
            ],
            "text/plain": [
              "               Open     High      Low  ...    Low_n     Volume_n  Change_n\n",
              "Date                                   ...                                \n",
              "2019-01-02  39400.0  39400.0  38550.0  ...  6506.88  581370000.0     0.46%\n",
              "2019-01-03  38300.0  38550.0  37450.0  ...  6457.13  667440000.0    -3.04%\n",
              "2019-01-04  37450.0  37600.0  36850.0  ...  6554.24  688190000.0     4.26%\n",
              "2019-01-07  38000.0  38900.0  37800.0  ...  6741.40  623290000.0     1.26%\n",
              "2019-01-08  38000.0  39200.0  37950.0  ...  6795.86  599420000.0     1.08%\n",
              "\n",
              "[5 rows x 12 columns]"
            ]
          },
          "metadata": {
            "tags": []
          },
          "execution_count": 29
        },
        {
          "output_type": "stream",
          "text": [
            "time: 42.2 ms\n"
          ],
          "name": "stdout"
        }
      ]
    },
    {
      "cell_type": "code",
      "metadata": {
        "id": "6RYAlnmrRZwo",
        "colab_type": "code",
        "colab": {
          "base_uri": "https://localhost:8080/",
          "height": 53
        },
        "outputId": "511ed8b7-c2d4-403a-9648-98005a53882d"
      },
      "source": [
        "corr = lambda p : p['Close'].corr(p['Close_n'])\n",
        "re_close =  corr(corr_19)\n",
        "\n",
        "print(re_close)"
      ],
      "execution_count": 31,
      "outputs": [
        {
          "output_type": "stream",
          "text": [
            "0.80395317684564\n",
            "time: 2.91 ms\n"
          ],
          "name": "stdout"
        }
      ]
    }
  ]
}